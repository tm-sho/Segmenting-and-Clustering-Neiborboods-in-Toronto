{
 "cells": [
  {
   "cell_type": "markdown",
   "metadata": {},
   "source": [
    "# Capstone Project - The Battle of Neighborhoods (Week 1)\n",
    "## _Finding Best Residential Areas for Long-Stay Foreign Tourists Coming to Osaka_"
   ]
  },
  {
   "cell_type": "markdown",
   "metadata": {},
   "source": [
    "## **1. A description of the problem and a discussion of the background**\n",
    "### Introduction\n",
    "  Osaka, where I spent my youth, is Japan’s third largest city with nearly 2.7 million people and has been the economic powerhouse of the Kansai region that covers the second largest metropolitan area in Japan with a population of approximately 20 million. In recent years, with its unique vibrant and diverse neighborhoods, Osaka has become one of the most popular tourist destinations in Japan particularly among foreign visitors. In 2018, for example, the number of foreign visitors to Osaka totaled more than 11 million, a record high for the sixth straight year. Moreover, an increasing number of those tourists are repeated visitors and are looking for long-stay accommodations in rather non-traditional tourist areas. Although the inflow of foreign tourists has been halted due to the global outbreak of COVID-19, it is expected that the foreign tourists will come back once we have overcome this pandemic."
   ]
  },
  {
   "cell_type": "markdown",
   "metadata": {},
   "source": [
    "### Business Problem\n",
    "  The objective of this project is to identify the best residential areas for long-stay foreign tourists who are looking for convenient but not conventional tourist areas in Osaka through applying some of the machine learning methodologies and techniques I have learned from this course. Although Osaka is still an important commercial and industrial hub in Japan, its economy has become to rely more on tourism in recent years, and thus being able to serve the needs of foreign visitors is essential for the future prospects of the economy of the city. Osaka is comprised of a total of 24 wards. By segmenting and clustering those wards, I will try to find best residential areas for long-stay foreign visitors by leveraging the Foursquare location data.\n",
    "#### Target Audience: ###\n",
    "1.\tThe primary target of this project are local travel agencies and tourist bureaus who want to attract more tourists to Osaka. \n",
    "2.\tIn addition, hotels and developers who want to invest and open new accommodations in different areas of Osaka would be interested in this project."
   ]
  },
  {
   "cell_type": "markdown",
   "metadata": {},
   "source": [
    "## **2. A description of the data and hot it will be used to solve the problem**\n",
    "### Data Sources\n",
    "For this project, the following data will be used to solve \n",
    "#### 1.\tWard Names of Osaka: Wikipedia page of Osaka (https://en.wikipedia.org/wiki/Osaka)\n",
    "Data on the Ward names of Osaka, population, land area, and population density will be scraped from a table of the Wikipedia page of Osaka.\n",
    "#### 2.\tCoordinates of All Wards: Geopy Client\n",
    "The coordinates of the 24 wards will be got using geocoder class of Geopy client.\n",
    "#### 3.\tLocation Data of Popular Venues: Foursquare (https://api.foursquare.com/v2/venues/)\n",
    "Data on venues in each ward will be got using Foursquare API."
   ]
  },
  {
   "cell_type": "markdown",
   "metadata": {},
   "source": [
    "In the analysis of the data, I will run k-means clustering to cluster the wards and examine each ward to find best residential areas for long-stay foreign tourists."
   ]
  }
 ],
 "metadata": {
  "kernelspec": {
   "display_name": "Python",
   "language": "python",
   "name": "conda-env-python-py"
  },
  "language_info": {
   "codemirror_mode": {
    "name": "ipython",
    "version": 3
   },
   "file_extension": ".py",
   "mimetype": "text/x-python",
   "name": "python",
   "nbconvert_exporter": "python",
   "pygments_lexer": "ipython3",
   "version": "3.6.10"
  }
 },
 "nbformat": 4,
 "nbformat_minor": 4
}
